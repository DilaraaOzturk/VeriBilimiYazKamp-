{
 "cells": [
  {
   "cell_type": "raw",
   "id": "4096cb66-5be5-4d97-9b0f-44b729564485",
   "metadata": {},
   "source": [
    "Soru 1 – Liste Metotları\n",
    "Bir sınıfta öğrencilerin notları şu şekilde tutuluyor:\n",
    "notlar = [85, 92, 76, 92, 100, 76, 85, 92]\n",
    "• Listedeki tekrar eden notları silip benzersiz bir liste oluşturun.\n",
    "• En yüksek ve en düşük notu bulun.\n",
    "• Notları küçükten büyüğe sıralayın."
   ]
  },
  {
   "cell_type": "code",
   "execution_count": 6,
   "id": "807e9daa-7cc8-4718-92a6-ecaf2e43573a",
   "metadata": {},
   "outputs": [
    {
     "name": "stdout",
     "output_type": "stream",
     "text": [
      "Benzersiz liste set ile düzeltildi: {100, 92, 85, 76}\n",
      "En yüksek not: 100 \n",
      "En düşük not: 76 \n",
      "Notlarin küçükten büyüğe siralanmis hali : [76, 76, 85, 85, 92, 92, 92, 100]\n"
     ]
    }
   ],
   "source": [
    "grades = [85, 92, 76, 92, 100, 76, 85, 92]\n",
    "grades_set=set(grades)\n",
    "print(f\"Benzersiz liste set ile düzeltildi: {grades_set}\")\n",
    "print(f\"En yüksek not: {max(grades)} \\nEn düşük not: {min(grades)} \")\n",
    "print(f\"Notlarin küçükten büyüğe siralanmis hali : {sorted(grades) }\")\n"
   ]
  },
  {
   "cell_type": "raw",
   "id": "9eca5c64-0432-4551-86d0-7e99cd5873c3",
   "metadata": {},
   "source": [
    "Soru 2 – Sayılar\n",
    "Bir sayının Armstrong sayısı olup olmadığını kontrol eden bir Python fonksiyonu yazın.\n",
    "Armstrong sayısı: Her basamağının küplerinin toplamı kendisine eşit olan sayılar.\n",
    "Örn: 153 → 13+53+33 = 153"
   ]
  },
  {
   "cell_type": "code",
   "execution_count": 8,
   "id": "b7dfdb7f-30a5-4157-9e43-c067beb09436",
   "metadata": {},
   "outputs": [
    {
     "name": "stdin",
     "output_type": "stream",
     "text": [
      "Bir sayi yaziniz Armstrong sayısı olup olmadığını kontrol edelim:   545\n"
     ]
    },
    {
     "name": "stdout",
     "output_type": "stream",
     "text": [
      "545 bir Armstrong sayısı değildir.\n"
     ]
    }
   ],
   "source": [
    "def armstrong_num(num):\n",
    "    basamak_sayisi = len(str(num))\n",
    "    toplam = sum(int(b)**basamak_sayisi for b in str(num))\n",
    "    if toplam == num:\n",
    "        print(f\"{num} bir Armstrong sayısıdır.\")\n",
    "    else:\n",
    "        print(f\"{num} bir Armstrong sayısı değildir.\")\n",
    "\n",
    "\n",
    "\n",
    "number=int(input(\"Bir sayi yaziniz Armstrong sayısı olup olmadığını kontrol edelim:  \"))\n",
    "armstrong_num(number)\n"
   ]
  },
  {
   "cell_type": "raw",
   "id": "ba8746ef-9596-46cf-ad0b-653bd5ee820b",
   "metadata": {},
   "source": [
    "Soru 3 – Kümeler\n",
    "Aşağıdaki iki küme verilmiştir:\n",
    "A = {\"Python\", \"R\", \"SQL\", \"Java\"}\n",
    "B = {\"C++\", \"Python\", \"JavaScript\", \"SQL\"}\n",
    "• Ortak dilleri bulun.\n",
    "• Sadece A’da olan dilleri listeleyin.\n",
    "• İki kümenin birleşimini alfabetik olarak yazdırın."
   ]
  },
  {
   "cell_type": "code",
   "execution_count": 9,
   "id": "46b3b704-c4a0-4313-ab95-c5f67d4775df",
   "metadata": {},
   "outputs": [
    {
     "name": "stdout",
     "output_type": "stream",
     "text": [
      "Ortak diller: {'SQL', 'Python'}\n",
      "Sadece A’da olan dilleri listeyelim: {'R', 'Java'}\n",
      "İki kümenin birleşimini alfabetik olarak yazdiralim: ['C++', 'Java', 'JavaScript', 'Python', 'R', 'SQL'] \n"
     ]
    }
   ],
   "source": [
    "A = {\"Python\", \"R\", \"SQL\", \"Java\"}\n",
    "B = {\"C++\", \"Python\", \"JavaScript\", \"SQL\"}\n",
    "print(f\"Ortak diller: {A.intersection(B)}\")\n",
    "print(f\"Sadece A’da olan dilleri listeyelim: {A.difference(B)}\")\n",
    "print(f\"İki kümenin birleşimini alfabetik olarak yazdiralim: {sorted(A.union(B))} \")\n",
    "\n"
   ]
  },
  {
   "cell_type": "raw",
   "id": "dc930ff8-77f3-42a9-8511-bec92d98e812",
   "metadata": {},
   "source": [
    "Soru 4 – Modüller\n",
    "• random modülünü kullanarak 1–100 arasında 10 rastgele sayı üretin.\n",
    "• Bu sayıların ortalamasını ve standart sapmasını statistics modülü ile hesaplayın.\n"
   ]
  },
  {
   "cell_type": "code",
   "execution_count": 12,
   "id": "0a780b82-d9d3-4a24-a47c-e2f3cac57521",
   "metadata": {},
   "outputs": [
    {
     "name": "stdout",
     "output_type": "stream",
     "text": [
      "Rastgele Sayilar: [97, 42, 3, 74, 88, 28, 80, 99, 82, 48]\n",
      "Ortalama: 64.10\n",
      "Standart Sapma: 32.19\n"
     ]
    }
   ],
   "source": [
    "import random\n",
    "import statistics\n",
    "\n",
    "numList = random.choices(range(1, 101), k=10)\n",
    "print(\"Rastgele Sayilar:\", numList)\n",
    "\n",
    "\n",
    "ortalama = statistics.mean(numList)\n",
    "std_sapma = statistics.stdev(numList)\n",
    "\n",
    "print(f\"Ortalama: {ortalama:.2f}\")\n",
    "print(f\"Standart Sapma: {std_sapma:.2f}\")\n"
   ]
  },
  {
   "cell_type": "raw",
   "id": "e63e39eb-4ef9-45c1-bec4-e143d65bb960",
   "metadata": {},
   "source": [
    "Soru 5 – Fonksiyonlar\n",
    "kelime_sayacı(metin) adında bir fonksiyon yazın.\n",
    "Fonksiyon verilen metindeki:\n",
    "• toplam kelime sayısını\n",
    "• en uzun kelimeyi\n",
    "• en sık geçen kelimeyi döndürsün."
   ]
  },
  {
   "cell_type": "code",
   "execution_count": 13,
   "id": "e120d409-4b0c-463b-acee-54a361cbbc00",
   "metadata": {},
   "outputs": [
    {
     "name": "stdout",
     "output_type": "stream",
     "text": [
      "Toplam kelime sayısı: 15\n",
      "En uzun kelime: yapılabilir\n",
      "En sık geçen kelime: Python\n"
     ]
    }
   ],
   "source": [
    "from collections import Counter\n",
    "\n",
    "\n",
    "def kelime_sayacı(text):\n",
    "    \n",
    "    cleanText = ''.join(char if char.isalnum() or char.isspace() else ' ' for char in metin)\n",
    "    \n",
    "    \n",
    "    words = cleanText.split()\n",
    "    \n",
    "   \n",
    "    countWords = len(words)\n",
    "    \n",
    "    \n",
    "    long = max(words, key=len)\n",
    "    \n",
    "    \n",
    "    sayac = Counter(words)\n",
    "    most = sayac.most_common(1)[0][0]\n",
    "    \n",
    "    return countWords, long, most\n",
    "\n",
    "metin = \"Python çok güçlü bir dil. Python ile veri analizi, yapay zeka ve daha fazlası yapılabilir!\"\n",
    "words, long, most = kelime_sayacı(metin)\n",
    "\n",
    "print(f\"Toplam kelime sayısı: {words}\")\n",
    "print(f\"En uzun kelime: {long}\")\n",
    "print(f\"En sık geçen kelime: {most}\")\n"
   ]
  },
  {
   "cell_type": "raw",
   "id": "408a3781-b011-4bd2-a87a-f53ac5105029",
   "metadata": {},
   "source": [
    "Soru 6 – Gömülü Fonksiyonlar\n",
    "Aşağıdaki liste için map, filter, sorted gibi gömülü fonksiyonları kullanarak:\n",
    "sayilar = [5, 12, 7, 18, 24, 3, 16]\n",
    "• Sadece çift sayıları filtreleyin.\n",
    "• Bu sayıların karelerini bulun.\n",
    "• Karelerini azalan sırada sıralayın."
   ]
  },
  {
   "cell_type": "code",
   "execution_count": 14,
   "id": "47c71363-76a5-4108-bfac-1965aa0d2a2b",
   "metadata": {},
   "outputs": [
    {
     "name": "stdout",
     "output_type": "stream",
     "text": [
      "Çift sayilar : [12, 18, 24, 16] \n",
      "Çift sayilarin kareleri : [144, 324, 576, 256] \n",
      "Çift sayilarin karelerinin azalan şekilde siralanmasi : [576, 324, 256, 144] \n"
     ]
    }
   ],
   "source": [
    "sayilar = [5, 12, 7, 18, 24, 3, 16]\n",
    "print(f\"Çift sayilar : {list(filter( lambda x : x % 2==0,sayilar))} \")\n",
    "ciftSayilar=list(filter( lambda x : x % 2==0,sayilar))\n",
    "print(f\"Çift sayilarin kareleri : {list(map( lambda x : x **2,ciftSayilar))} \")\n",
    "print(f\"Çift sayilarin karelerinin azalan şekilde siralanmasi : {sorted(list(map( lambda x : x **2,ciftSayilar)),reverse=True)} \")"
   ]
  },
  {
   "cell_type": "raw",
   "id": "f5f637b1-706c-4dbf-ad23-adc439f75776",
   "metadata": {},
   "source": [
    "Soru 7 – Lambda İfadeleri\n",
    "Aşağıdaki listeyi, her kelimenin uzunluğuna göre küçükten büyüğe sıralayın.\n",
    "kelimeler = [\"veri\", \"bilim\", \"analiz\", \"yapayzeka\", \"python\"]\n",
    "Bunu sorted + lambda ile yapın."
   ]
  },
  {
   "cell_type": "code",
   "execution_count": 15,
   "id": "cb85bb1c-0f12-473f-addb-4088bdc0e367",
   "metadata": {},
   "outputs": [
    {
     "name": "stdout",
     "output_type": "stream",
     "text": [
      "Her kelimenin uzunluğuna göre küçükten büyüğe sıralanasi: ['veri', 'bilim', 'analiz', 'python', 'yapayzeka']\n"
     ]
    }
   ],
   "source": [
    "kelimeler = [\"veri\", \"bilim\", \"analiz\", \"yapayzeka\", \"python\"]\n",
    "print(f\"Her kelimenin uzunluğuna göre küçükten büyüğe sıralanasi: { sorted(kelimeler,key=lambda x : len(x))}\")\n"
   ]
  },
  {
   "cell_type": "raw",
   "id": "d217d647-3620-4508-b36e-7df925fd31a9",
   "metadata": {},
   "source": [
    "Soru 8 – Metodlar\n",
    "Bir string içinde geçen tüm rakamları bulun ve bunların toplamını döndüren bir fonksiyon\n",
    "yazın.\n",
    "Örn: \"abc12def3\" → 12 + 3 = 15"
   ]
  },
  {
   "cell_type": "code",
   "execution_count": 16,
   "id": "c5f91fcd-9ef2-4075-a885-0e1637f944e1",
   "metadata": {},
   "outputs": [
    {
     "name": "stdin",
     "output_type": "stream",
     "text": [
      "Karışık kelimeler ve rakamlar yazın toplayalim: 545sxdsd545\n"
     ]
    },
    {
     "name": "stdout",
     "output_type": "stream",
     "text": [
      "Toplam :1090\n"
     ]
    }
   ],
   "source": [
    "import re\n",
    "def sumNum(text):\n",
    "    cleanText = re.findall(r'\\d+', text)\n",
    "    return sum(map(int,cleanText))\n",
    "\n",
    "text=input(\"Karışık kelimeler ve rakamlar yazın toplayalim:\")\n",
    "print(f\"Toplam :{sumNum(text)}\")"
   ]
  },
  {
   "cell_type": "raw",
   "id": "2dceb399-7b78-42fe-9f22-d252968df71f",
   "metadata": {},
   "source": [
    "Soru 9 – (Ekstra) Numpy 1\n",
    "10 elemanlı bir numpy dizisi oluşturun.\n",
    "• Elemanlar 0–50 arasında rastgele sayılar olsun.\n",
    "• Dizinin ortalamasını, standart sapmasını ve en büyük değerini bulun."
   ]
  },
  {
   "cell_type": "code",
   "execution_count": 20,
   "id": "38a31f64-b7db-4069-a2c7-a61e2bd690bd",
   "metadata": {},
   "outputs": [
    {
     "name": "stdout",
     "output_type": "stream",
     "text": [
      "Dizinin ortalamasi: 27.9\n",
      "Standart sapmasını: 15.559241626763177\n",
      "En büyük değerini: 50\n"
     ]
    }
   ],
   "source": [
    "import random\n",
    "import numpy as np\n",
    "numArr=np.random.randint(0,51,size=10)\n",
    "print(f\"Dizinin ortalamasi: {numArr.mean()}\")\n",
    "print(f\"Standart sapmasını: {numArr.std()}\")\n",
    "print(f\"En büyük değerini: {numArr.max()}\")\n"
   ]
  },
  {
   "cell_type": "raw",
   "id": "a90c6ed2-90fe-4761-8cb2-bff1d176bd6f",
   "metadata": {},
   "source": [
    "Soru 10 – (Ekstra) Numpy 2\n",
    "5x5 boyutunda rastgele 0–1 arasında değerlerden oluşan bir numpy matrisi üretin.\n",
    "• Her sütunun ortalamasını bulun.\n",
    "• 0.5’ten büyük olan değerleri 1, küçük eşit olanları 0 yaparak binary matris oluşturun."
   ]
  },
  {
   "cell_type": "code",
   "execution_count": 21,
   "id": "ffbf4480-f06b-4b42-bfb1-bd46ed95d7e8",
   "metadata": {
    "scrolled": true
   },
   "outputs": [
    {
     "name": "stdout",
     "output_type": "stream",
     "text": [
      "Orijinal Matris:\n",
      " [[0.08045167 0.71380191 0.63336213 0.23420322 0.0962887 ]\n",
      " [0.12102661 0.45864404 0.33980355 0.83525146 0.19089174]\n",
      " [0.66839271 0.0314839  0.09190203 0.24588486 0.59960698]\n",
      " [0.55012239 0.19751985 0.3636408  0.39043847 0.46979095]\n",
      " [0.59253907 0.09573435 0.10742281 0.17266433 0.56539772]]\n",
      "Her sütunun ortalamasını bulun: [0.40250649 0.29943681 0.30722626 0.37568847 0.38439522]\n",
      "\n",
      "Binary Matris:\n",
      " [[0 1 1 0 0]\n",
      " [0 0 0 1 0]\n",
      " [1 0 0 0 1]\n",
      " [1 0 0 0 0]\n",
      " [1 0 0 0 1]]\n"
     ]
    }
   ],
   "source": [
    "import numpy as np\n",
    "matris = np.random.rand(5, 5)\n",
    "print(\"Orijinal Matris:\\n\", matris)\n",
    "print(f\"Her sütunun ortalamasını bulun: {np.mean(matris,axis=0)}\")\n",
    "\n",
    "binary_matris = (matris > 0.5).astype(int)\n",
    "print(\"\\nBinary Matris:\\n\", binary_matris)\n",
    "\n",
    "\n",
    "\n"
   ]
  },
  {
   "cell_type": "raw",
   "id": "aa6a2251-1ed0-48f7-9121-150478c7da38",
   "metadata": {},
   "source": [
    "Proje – “Kitap Satış Analiz Sistemi”\n"
   ]
  },
  {
   "cell_type": "code",
   "execution_count": 22,
   "id": "9ef7e049-c723-4a69-bc8a-fe0968516f3b",
   "metadata": {},
   "outputs": [],
   "source": [
    "kitaplar = [\n",
    "{\"isim\": \"Veri Bilimi 101\", \"yazar\": \"Ali\", \"tur\": \"Bilim\", \"satis\": 1200, \"yil\": 2021},\n",
    "{\"isim\": \"Python ile Yapay Zeka\", \"yazar\": \"Ayşe\", \"tur\": \"Bilim\", \"satis\": 950, \"yil\":\n",
    "2020},\n",
    "{\"isim\": \"İstatistik Temelleri\", \"yazar\": \"Ali\", \"tur\": \"Akademik\", \"satis\": 700, \"yil\": 2019},\n",
    "{\"isim\": \"Makine Öğrenmesi\", \"yazar\": \"Can\", \"tur\": \"Bilim\", \"satis\": 1800, \"yil\": 2022},\n",
    "{\"isim\": \"Veri Görselleştirme\", \"yazar\": \"Deniz\", \"tur\": \"Sanat\", \"satis\": 400, \"yil\": 2018},\n",
    "{\"isim\": \"Matematiksel Modelleme\", \"yazar\": \"Ali\", \"tur\": \"Akademik\", \"satis\": 1500,\n",
    "\"yil\": 2021},\n",
    "{\"isim\": \"Bilgi Toplumu\", \"yazar\": \"Ayşe\", \"tur\": \"Sosyal\", \"satis\": 600, \"yil\": 2022}\n",
    "]"
   ]
  },
  {
   "cell_type": "code",
   "execution_count": 23,
   "id": "b1344c59-234d-4cdb-8902-dcab6cd77d1f",
   "metadata": {},
   "outputs": [
    {
     "name": "stdout",
     "output_type": "stream",
     "text": [
      "{'isim': 'Makine Öğrenmesi', 'yazar': 'Can', 'tur': 'Bilim', 'satis': 1800, 'yil': 2022}\n",
      "{'Ali': 3400, 'Ayşe': 1550, 'Can': 1800, 'Deniz': 400}\n"
     ]
    }
   ],
   "source": [
    "\n",
    "import numpy as np\n",
    "#en çok satan kitabi döndüren fonk\n",
    "#en çok satan kitabi döndüren fonk\n",
    "def en_cok_satan(kitaplar):\n",
    "    en_cok_satan_kitap = None\n",
    "    maksimum_satis = -1\n",
    "\n",
    "    for kitap in kitaplar:\n",
    "        if kitap[\"satis\"] > maksimum_satis:\n",
    "            maksimum_satis = kitap[\"satis\"]\n",
    "            en_cok_satan_kitap = kitap\n",
    "    return en_cok_satan_kitap\n",
    "\n",
    "print(en_cok_satan(kitaplar))\n",
    "\n",
    "    \n",
    "#yazarlarin toplam satişini döndüren fonk\n",
    "\n",
    "def yazar_satislari(kitaplar):\n",
    "    satislar = {}\n",
    "    for kitap in kitaplar:\n",
    "        yazar = kitap[\"yazar\"]\n",
    "        satis = kitap[\"satis\"]\n",
    "        if yazar in satislar:\n",
    "            satislar[yazar] += satis\n",
    "        else:\n",
    "            satislar[yazar] = satis\n",
    "    return satislar\n",
    "\n",
    "print(yazar_satislari(kitaplar))\n",
    "    "
   ]
  },
  {
   "cell_type": "code",
   "execution_count": 24,
   "id": "5833d9ed-236d-46ef-825e-0dcdf65f2031",
   "metadata": {},
   "outputs": [
    {
     "name": "stdout",
     "output_type": "stream",
     "text": [
      "Kitap Türleri ve sayilari  {'Bilim': 3, 'Akademik': 2, 'Sanat': 1, 'Sosyal': 1}\n",
      "Satış adedi 1000’den fazla olan kitapların isimlerini bir listede toplayalim: ['Veri Bilimi 101', 'Makine Öğrenmesi', 'Matematiksel Modelleme']\n"
     ]
    }
   ],
   "source": [
    "def kitap_turleri(kitaplar):\n",
    "    turler = {}\n",
    "    for kitap in kitaplar:\n",
    "        tur = kitap[\"tur\"]\n",
    "        if tur in turler:\n",
    "            turler[tur] += 1\n",
    "        else:\n",
    "            turler[tur] = 1\n",
    "    return turler\n",
    "genre=kitap_turleri(kitaplar)\n",
    "print(\"Kitap Türleri ve sayilari \",genre)\n",
    "\n",
    "def kitapAdediFiltrele(kitaplar):\n",
    "  filtList=[]\n",
    "  for kitap in kitaplar:\n",
    "    if kitap[\"satis\"]>1000:\n",
    "      filtList.append(kitap[\"isim\"])\n",
    "  return filtList\n",
    "\n",
    "print(f\"Satış adedi 1000’den fazla olan kitapların isimlerini bir listede toplayalim: {kitapAdediFiltrele(kitaplar)}\")"
   ]
  },
  {
   "cell_type": "code",
   "execution_count": 25,
   "id": "a4572959-a182-4892-8c3e-ac1a7f3c3a9b",
   "metadata": {},
   "outputs": [
    {
     "name": "stdout",
     "output_type": "stream",
     "text": [
      "2020 sonrası çıkan kitaplar:\n",
      "- Veri Bilimi 101\n",
      "- Makine Öğrenmesi\n",
      "- Matematiksel Modelleme\n",
      "- Bilgi Toplumu\n",
      "\n",
      "Satış adedi %10 artırılmış kitaplar:\n",
      "- Veri Bilimi 101 : 1320\n",
      "- Python ile Yapay Zeka : 1045\n",
      "- İstatistik Temelleri : 770\n",
      "- Makine Öğrenmesi : 1980\n",
      "- Veri Görselleştirme : 440\n",
      "- Matematiksel Modelleme : 1650\n",
      "- Bilgi Toplumu : 660\n",
      "\n",
      "Satış miktarına göre azalan sıralama:\n",
      "- Makine Öğrenmesi : 1800\n",
      "- Matematiksel Modelleme : 1500\n",
      "- Veri Bilimi 101 : 1200\n",
      "- Python ile Yapay Zeka : 950\n",
      "- İstatistik Temelleri : 700\n",
      "- Bilgi Toplumu : 600\n",
      "- Veri Görselleştirme : 400\n"
     ]
    }
   ],
   "source": [
    "sonrasi2020 = list(filter(lambda k: k[\"yil\"] > 2020, kitaplar))\n",
    "print(\"2020 sonrası çıkan kitaplar:\")\n",
    "for k in sonrasi2020:\n",
    "    print(\"-\", k[\"isim\"])\n",
    "\n",
    "satis_artis = list(map(lambda k: {**k, \"satis\": int(k[\"satis\"] * 1.10)}, kitaplar))\n",
    "print(\"\\nSatış adedi %10 artırılmış kitaplar:\")\n",
    "for k in satis_artis:\n",
    "    print(\"-\", k[\"isim\"], \":\", k[\"satis\"])\n",
    "\n",
    "sirali = sorted(kitaplar, key=lambda k: k[\"satis\"], reverse=True)\n",
    "print(\"\\nSatış miktarına göre azalan sıralama:\")\n",
    "for k in sirali:\n",
    "    print(\"-\", k[\"isim\"], \":\", k[\"satis\"])\n",
    "    \n",
    "    \n"
   ]
  },
  {
   "cell_type": "code",
   "execution_count": 26,
   "id": "53f411ee-54d5-4a8f-8173-cd373239d57e",
   "metadata": {},
   "outputs": [
    {
     "name": "stdout",
     "output_type": "stream",
     "text": [
      "Ortalama satış adedi: 1021.4285714285714\n",
      "En çok satış yapan tür: Bilim ( 3950 satış )\n",
      "Satışların standart sapması: 506.51\n"
     ]
    }
   ],
   "source": [
    "import statistics\n",
    "\n",
    "# --- Ortalama satış adedi ---\n",
    "satislar = [k[\"satis\"] for k in kitaplar]\n",
    "ortalama = statistics.mean(satislar)\n",
    "\n",
    "# --- En çok satış yapan tür ---\n",
    "tur_satis = {}\n",
    "for k in kitaplar:\n",
    "    tur_satis[k[\"tur\"]] = tur_satis.get(k[\"tur\"], 0) + k[\"satis\"]\n",
    "en_cok_tur = max(tur_satis, key=tur_satis.get)\n",
    "\n",
    "# --- Standart sapma ---\n",
    "std_sapma = statistics.stdev(satislar)\n",
    "\n",
    "print(\"Ortalama satış adedi:\", ortalama)\n",
    "print(\"En çok satış yapan tür:\", en_cok_tur, \"(\", tur_satis[en_cok_tur], \"satış )\")\n",
    "print(\"Satışların standart sapması:\", round(std_sapma, 2))\n"
   ]
  },
  {
   "cell_type": "code",
   "execution_count": 27,
   "id": "67a3bb41-75d3-4326-8eaa-aa952918a74c",
   "metadata": {
    "scrolled": true
   },
   "outputs": [
    {
     "name": "stdout",
     "output_type": "stream",
     "text": [
      "Eğitim seti kitapları: ['Veri Görselleştirme', 'Veri Bilimi 101', 'Bilgi Toplumu', 'İstatistik Temelleri']\n",
      "Test seti kitapları: ['Python ile Yapay Zeka', 'Makine Öğrenmesi', 'Matematiksel Modelleme']\n",
      "\n",
      "Eğitim verisindeki yazarların ortalama satışları:\n",
      "- Deniz : 400\n",
      "- Ali : 950\n",
      "- Ayşe : 600\n",
      "\n",
      "Test setinde ortalamanın üzerinde satan kitaplar:\n",
      "- Python ile Yapay Zeka ( Ayşe , 950 )\n",
      "- Matematiksel Modelleme ( Ali , 1500 )\n"
     ]
    }
   ],
   "source": [
    "import random\n",
    "import statistics\n",
    "\n",
    "# --- 1. Veriyi %70 eğitim, %30 test olarak ayır ---\n",
    "train_size = int(len(kitaplar) * 0.7)\n",
    "train_set = random.sample(kitaplar, train_size)  # eğitim verisi\n",
    "test_set = [k for k in kitaplar if k not in train_set]  # geri kalan test verisi\n",
    "\n",
    "print(\"Eğitim seti kitapları:\", [k[\"isim\"] for k in train_set])\n",
    "print(\"Test seti kitapları:\", [k[\"isim\"] for k in test_set])\n",
    "\n",
    "# --- 2. Eğitim verisinden yazarların ortalama satışını hesapla ---\n",
    "yazar_satis = {}\n",
    "for k in train_set:\n",
    "    if k[\"yazar\"] not in yazar_satis:\n",
    "        yazar_satis[k[\"yazar\"]] = []\n",
    "    yazar_satis[k[\"yazar\"]].append(k[\"satis\"])\n",
    "\n",
    "yazar_ortalama = {y: statistics.mean(satis) for y, satis in yazar_satis.items()}\n",
    "print(\"\\nEğitim verisindeki yazarların ortalama satışları:\")\n",
    "for y, ort in yazar_ortalama.items():\n",
    "    print(\"-\", y, \":\", round(ort, 2))\n",
    "\n",
    "# --- 3. Test verisinde ortalamanın üstünde satış yapanları bul ---\n",
    "print(\"\\nTest setinde ortalamanın üzerinde satan kitaplar:\")\n",
    "for k in test_set:\n",
    "    yazar = k[\"yazar\"]\n",
    "    if yazar in yazar_ortalama and k[\"satis\"] > yazar_ortalama[yazar]:\n",
    "        print(\"-\", k[\"isim\"], \"(\", k[\"yazar\"], \",\", k[\"satis\"], \")\")\n"
   ]
  },
  {
   "cell_type": "code",
   "execution_count": null,
   "id": "5e9fbe66-0162-4694-a876-46a07ff9fc70",
   "metadata": {},
   "outputs": [],
   "source": []
  }
 ],
 "metadata": {
  "kernelspec": {
   "display_name": "anaconda-panel-2023.05-py310",
   "language": "python",
   "name": "conda-env-anaconda-panel-2023.05-py310-py"
  },
  "language_info": {
   "codemirror_mode": {
    "name": "ipython",
    "version": 3
   },
   "file_extension": ".py",
   "mimetype": "text/x-python",
   "name": "python",
   "nbconvert_exporter": "python",
   "pygments_lexer": "ipython3",
   "version": "3.11.5"
  }
 },
 "nbformat": 4,
 "nbformat_minor": 5
}
