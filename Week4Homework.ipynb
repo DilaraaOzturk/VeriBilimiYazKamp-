{
 "cells": [
  {
   "cell_type": "code",
   "execution_count": null,
   "id": "296867ce-0725-4433-83ac-2ddf62685b46",
   "metadata": {},
   "outputs": [],
   "source": [
    "# 1. Numpy Bölümü"
   ]
  },
  {
   "cell_type": "code",
   "execution_count": 2,
   "id": "dbeb0f5f-ba7f-420d-8f22-d67f2e214207",
   "metadata": {},
   "outputs": [
    {
     "data": {
      "text/plain": [
       "'\\n1. 1. Numpy ile Matris İşlemleri\\n- 5x5 boyutunda rastgele (0-100 arasında) tam sayılardan oluşan bir matris oluşturun.\\n- Bu matrisin:\\n• Ortalama, standart sapma ve varyansını hesaplayın.\\n• En büyük ve en küçük değerlerini bulun.\\n• Köşegenindeki elemanların toplamını bulun.\\n\\n'"
      ]
     },
     "execution_count": 2,
     "metadata": {},
     "output_type": "execute_result"
    }
   ],
   "source": [
    "\"\"\"\n",
    "1. 1. Numpy ile Matris İşlemleri\n",
    "- 5x5 boyutunda rastgele (0-100 arasında) tam sayılardan oluşan bir matris oluşturun.\n",
    "- Bu matrisin:\n",
    "• Ortalama, standart sapma ve varyansını hesaplayın.\n",
    "• En büyük ve en küçük değerlerini bulun.\n",
    "• Köşegenindeki elemanların toplamını bulun.\n",
    "\n",
    "\"\"\""
   ]
  },
  {
   "cell_type": "code",
   "execution_count": 3,
   "id": "ad0556c9-7282-4260-8153-50e34c785a2b",
   "metadata": {},
   "outputs": [
    {
     "name": "stdout",
     "output_type": "stream",
     "text": [
      "*Ortalama: 50.480\n",
      "*Standart sapma: 30.900\n",
      "*Varyansı: 954.810\n",
      "*En büyük değer : 100\n",
      "*En büyük değer : 2\n",
      "*Köşegenindeki elemanların toplamı: 222\n"
     ]
    }
   ],
   "source": [
    "import numpy as np\n",
    "import random \n",
    "np.random.seed(42)\n",
    "dizi=np.random.randint(1,101,size=25)\n",
    "dizi.shape=(5,5)\n",
    "#dizi = np.random.randint(1, 101, size=(5, 5)) -> Daha pratik\n",
    "{dizi.var()}\n",
    "print(f\"*Ortalama: {dizi.mean():.3f}\\n*Standart sapma: {dizi.std():.3f}\\n*Varyansı: {dizi.var():.3f}\")\n",
    "print(f\"*En büyük değer : {dizi.max()}\\n*En büyük değer : {dizi.min()}\")\n",
    "print(f\"*Köşegenindeki elemanların toplamı: {np.diag(dizi).sum()}\") #diag köşegendeki elemanlari ayrı bir arraye alıyor onu da sum ile topladım \n"
   ]
  },
  {
   "cell_type": "code",
   "execution_count": 4,
   "id": "404fb96f-3712-49dd-ac90-0d043d86ffae",
   "metadata": {},
   "outputs": [
    {
     "data": {
      "text/plain": [
       "'\\n2. 2. Numpy ile Veri Simülasyonu\\n- 1000 adet öğrencinin sınav puanlarını (0-100 arası, normal dağılımdan gelen) simüle edin.\\n- Ortalama, medyan ve standart sapmayı hesaplayın.\\n- 50’den düşük alan kaç öğrenci olduğunu bulun.\\n'"
      ]
     },
     "execution_count": 4,
     "metadata": {},
     "output_type": "execute_result"
    }
   ],
   "source": [
    "\"\"\"\n",
    "2. 2. Numpy ile Veri Simülasyonu\n",
    "- 1000 adet öğrencinin sınav puanlarını (0-100 arası, normal dağılımdan gelen) simüle edin.\n",
    "- Ortalama, medyan ve standart sapmayı hesaplayın.\n",
    "- 50’den düşük alan kaç öğrenci olduğunu bulun.\n",
    "\"\"\"\n"
   ]
  },
  {
   "cell_type": "code",
   "execution_count": 5,
   "id": "207c8a26-c021-464c-9cdb-07ed63c85e7c",
   "metadata": {},
   "outputs": [
    {
     "name": "stdout",
     "output_type": "stream",
     "text": [
      "*Ortalama: 49.889\n",
      "*Medyan: 50.0 \n",
      "*Standart sapma: 29.976\n",
      "*50’den düşük alan öğrenci sayisi: 492\n"
     ]
    }
   ],
   "source": [
    "arr=np.random.randint(0,101,size=1000)\n",
    "print(f\"*Ortalama: {arr.mean():.3f}\\n*Medyan: {np.median(arr)} \\n*Standart sapma: {arr.std():.3f}\")\n",
    "print(f\"*50’den düşük alan öğrenci sayisi: {(arr<50).sum()}\")"
   ]
  },
  {
   "cell_type": "code",
   "execution_count": 6,
   "id": "e97a2abb-06dc-4903-b2c8-a843a4bf73ec",
   "metadata": {},
   "outputs": [
    {
     "data": {
      "text/plain": [
       "'\\n2. Pandas Bölümü\\nBir CSV dosyası oluşturun ya da aşağıdaki gibi örnek bir DataFrame hazırlayın:\\nÖğrenci Yaş Bölüm Matematik Fizik Kimya\\nAli 20 Bilgisayar 70 65 80\\nAyşe 21 Fizik 60 75 85\\nMehmet 19 Kimya 80 70 65\\nZeynep 22 Bilgisayar 90 85 95\\nAhmet 20 Fizik 55 60 70\\n\\uf0b7 Görevler:\\n3. 1. Veri setini Pandas DataFrame olarak oluşturun.\\n4. 2. Her ders için ortalama puanı bulun.\\n5. 3. En yüksek matematik notunu alan öğrenciyi bulun.\\n6. 4. Her öğrencinin not ortalamasını hesaplayan yeni bir sütun ekleyin.\\n7. 5. Bölümlere göre gruplayarak her bölümün ortalama başarılarını hesaplayın.\\n8. 6. Ortalaması 70’in üzerinde olan öğrencileri filtreleyin.\\n'"
      ]
     },
     "execution_count": 6,
     "metadata": {},
     "output_type": "execute_result"
    }
   ],
   "source": [
    "\"\"\"\n",
    "2. Pandas Bölümü\n",
    "Bir CSV dosyası oluşturun ya da aşağıdaki gibi örnek bir DataFrame hazırlayın:\n",
    "Öğrenci Yaş Bölüm Matematik Fizik Kimya\n",
    "Ali 20 Bilgisayar 70 65 80\n",
    "Ayşe 21 Fizik 60 75 85\n",
    "Mehmet 19 Kimya 80 70 65\n",
    "Zeynep 22 Bilgisayar 90 85 95\n",
    "Ahmet 20 Fizik 55 60 70\n",
    " Görevler:\n",
    "3. 1. Veri setini Pandas DataFrame olarak oluşturun.\n",
    "4. 2. Her ders için ortalama puanı bulun.\n",
    "5. 3. En yüksek matematik notunu alan öğrenciyi bulun.\n",
    "6. 4. Her öğrencinin not ortalamasını hesaplayan yeni bir sütun ekleyin.\n",
    "7. 5. Bölümlere göre gruplayarak her bölümün ortalama başarılarını hesaplayın.\n",
    "8. 6. Ortalaması 70’in üzerinde olan öğrencileri filtreleyin.\n",
    "\"\"\""
   ]
  },
  {
   "cell_type": "code",
   "execution_count": 7,
   "id": "da4fde2c-d78b-4ff1-8b6b-1a72db6b68bc",
   "metadata": {},
   "outputs": [
    {
     "data": {
      "text/html": [
       "<div>\n",
       "<style scoped>\n",
       "    .dataframe tbody tr th:only-of-type {\n",
       "        vertical-align: middle;\n",
       "    }\n",
       "\n",
       "    .dataframe tbody tr th {\n",
       "        vertical-align: top;\n",
       "    }\n",
       "\n",
       "    .dataframe thead th {\n",
       "        text-align: right;\n",
       "    }\n",
       "</style>\n",
       "<table border=\"1\" class=\"dataframe\">\n",
       "  <thead>\n",
       "    <tr style=\"text-align: right;\">\n",
       "      <th></th>\n",
       "      <th>Öğrenci</th>\n",
       "      <th>Yaş</th>\n",
       "      <th>Bölüm</th>\n",
       "      <th>Matematik</th>\n",
       "      <th>Fizik</th>\n",
       "      <th>Kimya</th>\n",
       "    </tr>\n",
       "  </thead>\n",
       "  <tbody>\n",
       "    <tr>\n",
       "      <th>0</th>\n",
       "      <td>Ali</td>\n",
       "      <td>20</td>\n",
       "      <td>Bilgisayar</td>\n",
       "      <td>70</td>\n",
       "      <td>65</td>\n",
       "      <td>80</td>\n",
       "    </tr>\n",
       "    <tr>\n",
       "      <th>1</th>\n",
       "      <td>Ayşe</td>\n",
       "      <td>21</td>\n",
       "      <td>Fizik</td>\n",
       "      <td>60</td>\n",
       "      <td>75</td>\n",
       "      <td>85</td>\n",
       "    </tr>\n",
       "    <tr>\n",
       "      <th>2</th>\n",
       "      <td>Mehmet</td>\n",
       "      <td>19</td>\n",
       "      <td>Kimya</td>\n",
       "      <td>80</td>\n",
       "      <td>70</td>\n",
       "      <td>65</td>\n",
       "    </tr>\n",
       "    <tr>\n",
       "      <th>3</th>\n",
       "      <td>Zeynep</td>\n",
       "      <td>22</td>\n",
       "      <td>Bilgisayar</td>\n",
       "      <td>90</td>\n",
       "      <td>85</td>\n",
       "      <td>95</td>\n",
       "    </tr>\n",
       "    <tr>\n",
       "      <th>4</th>\n",
       "      <td>Ahmet</td>\n",
       "      <td>20</td>\n",
       "      <td>Fizik</td>\n",
       "      <td>55</td>\n",
       "      <td>60</td>\n",
       "      <td>70</td>\n",
       "    </tr>\n",
       "  </tbody>\n",
       "</table>\n",
       "</div>"
      ],
      "text/plain": [
       "  Öğrenci  Yaş       Bölüm  Matematik  Fizik  Kimya\n",
       "0     Ali   20  Bilgisayar         70     65     80\n",
       "1    Ayşe   21       Fizik         60     75     85\n",
       "2  Mehmet   19       Kimya         80     70     65\n",
       "3  Zeynep   22  Bilgisayar         90     85     95\n",
       "4   Ahmet   20       Fizik         55     60     70"
      ]
     },
     "execution_count": 7,
     "metadata": {},
     "output_type": "execute_result"
    }
   ],
   "source": [
    "import pandas as pd\n",
    "dict={\"Öğrenci\": [\"Ali\", \"Ayşe\", \"Mehmet\", \"Zeynep\", \"Ahmet\"],\n",
    "    \"Yaş\": [20, 21, 19, 22, 20],\n",
    "    \"Bölüm\": [\"Bilgisayar\", \"Fizik\", \"Kimya\", \"Bilgisayar\", \"Fizik\"],\n",
    "    \"Matematik\": [70, 60, 80, 90, 55],\n",
    "    \"Fizik\": [65, 75, 70, 85, 60],\n",
    "    \"Kimya\": [80, 85, 65, 95, 70]\n",
    "}\n",
    "df=pd.DataFrame(dict)\n",
    "df"
   ]
  },
  {
   "cell_type": "code",
   "execution_count": 8,
   "id": "8ea3c8ef-9ee6-4f5b-a0f1-feb264456bee",
   "metadata": {},
   "outputs": [
    {
     "name": "stdout",
     "output_type": "stream",
     "text": [
      "*Matematik Not Ortalamasi: 71.00\n",
      "*Fizik Not Ortalamasi: 71.00\n",
      "*Kimya Not Ortalamasi: 79.00\n",
      "*En yüksek matematik notunu alan kişi Zeynep ve notu 90\n",
      "Öğrencilerin not ortalamarı :\n",
      "+Ali isimli öğrencini not ortalaması : 215\n",
      "+Ayşe isimli öğrencini not ortalaması : 220\n",
      "+Mehmet isimli öğrencini not ortalaması : 215\n",
      "+Zeynep isimli öğrencini not ortalaması : 270\n",
      "+Ahmet isimli öğrencini not ortalaması : 185\n"
     ]
    }
   ],
   "source": [
    "\n",
    "print(\n",
    "    f\"*Matematik Not Ortalamasi: {df['Matematik'].mean():.2f}\\n\"\n",
    "    f\"*Fizik Not Ortalamasi: {df['Fizik'].mean():.2f}\\n\"\n",
    "    f\"*Kimya Not Ortalamasi: {df['Kimya'].mean():.2f}\"\n",
    ")\n",
    "en_yuksek = df[df[\"Matematik\"] == df[\"Matematik\"].max()]\n",
    "print(\n",
    "    f\"*En yüksek matematik notunu alan kişi {en_yuksek['Öğrenci'].values[0]} \"\n",
    "    f\"ve notu {en_yuksek['Matematik'].values[0]}\"\n",
    ")\n",
    "\n",
    "gradeList=[]\n",
    "\n",
    "\n",
    "print(\"Öğrencilerin not ortalamarı :\")\n",
    "for i in df.index:\n",
    "    print(\n",
    "        f\"+{df.iloc[i,0]} isimli öğrencini not ortalaması : {df.iloc[i,3:].sum()}\",\n",
    "        \n",
    "    )\n",
    "    gradeList.append(df.iloc[i,3:].sum())  #Hem ortalamali gösterdim hem de listeye attım \n",
    "\n",
    "#Şimdi sütün olarak ekleyebilirim\n",
    "df[\"Not Ortalamasi\"]=gradeList\n",
    "# Alternatif :df[\"Ortalama\"] = df[[\"Matematik\", \"Fizik\", \"Kimya\"]].mean(axis=1)\n",
    "\n",
    "    \n"
   ]
  },
  {
   "cell_type": "code",
   "execution_count": 9,
   "id": "c0e58638-37ea-436c-9f95-a0cb0239c509",
   "metadata": {},
   "outputs": [
    {
     "data": {
      "text/html": [
       "<div>\n",
       "<style scoped>\n",
       "    .dataframe tbody tr th:only-of-type {\n",
       "        vertical-align: middle;\n",
       "    }\n",
       "\n",
       "    .dataframe tbody tr th {\n",
       "        vertical-align: top;\n",
       "    }\n",
       "\n",
       "    .dataframe thead th {\n",
       "        text-align: right;\n",
       "    }\n",
       "</style>\n",
       "<table border=\"1\" class=\"dataframe\">\n",
       "  <thead>\n",
       "    <tr style=\"text-align: right;\">\n",
       "      <th></th>\n",
       "      <th>Öğrenci</th>\n",
       "      <th>Yaş</th>\n",
       "      <th>Bölüm</th>\n",
       "      <th>Matematik</th>\n",
       "      <th>Fizik</th>\n",
       "      <th>Kimya</th>\n",
       "      <th>Not Ortalamasi</th>\n",
       "    </tr>\n",
       "  </thead>\n",
       "  <tbody>\n",
       "    <tr>\n",
       "      <th>0</th>\n",
       "      <td>Ali</td>\n",
       "      <td>20</td>\n",
       "      <td>Bilgisayar</td>\n",
       "      <td>70</td>\n",
       "      <td>65</td>\n",
       "      <td>80</td>\n",
       "      <td>215</td>\n",
       "    </tr>\n",
       "    <tr>\n",
       "      <th>1</th>\n",
       "      <td>Ayşe</td>\n",
       "      <td>21</td>\n",
       "      <td>Fizik</td>\n",
       "      <td>60</td>\n",
       "      <td>75</td>\n",
       "      <td>85</td>\n",
       "      <td>220</td>\n",
       "    </tr>\n",
       "    <tr>\n",
       "      <th>2</th>\n",
       "      <td>Mehmet</td>\n",
       "      <td>19</td>\n",
       "      <td>Kimya</td>\n",
       "      <td>80</td>\n",
       "      <td>70</td>\n",
       "      <td>65</td>\n",
       "      <td>215</td>\n",
       "    </tr>\n",
       "    <tr>\n",
       "      <th>3</th>\n",
       "      <td>Zeynep</td>\n",
       "      <td>22</td>\n",
       "      <td>Bilgisayar</td>\n",
       "      <td>90</td>\n",
       "      <td>85</td>\n",
       "      <td>95</td>\n",
       "      <td>270</td>\n",
       "    </tr>\n",
       "    <tr>\n",
       "      <th>4</th>\n",
       "      <td>Ahmet</td>\n",
       "      <td>20</td>\n",
       "      <td>Fizik</td>\n",
       "      <td>55</td>\n",
       "      <td>60</td>\n",
       "      <td>70</td>\n",
       "      <td>185</td>\n",
       "    </tr>\n",
       "  </tbody>\n",
       "</table>\n",
       "</div>"
      ],
      "text/plain": [
       "  Öğrenci  Yaş       Bölüm  Matematik  Fizik  Kimya  Not Ortalamasi\n",
       "0     Ali   20  Bilgisayar         70     65     80             215\n",
       "1    Ayşe   21       Fizik         60     75     85             220\n",
       "2  Mehmet   19       Kimya         80     70     65             215\n",
       "3  Zeynep   22  Bilgisayar         90     85     95             270\n",
       "4   Ahmet   20       Fizik         55     60     70             185"
      ]
     },
     "execution_count": 9,
     "metadata": {},
     "output_type": "execute_result"
    }
   ],
   "source": [
    "df"
   ]
  },
  {
   "cell_type": "code",
   "execution_count": 10,
   "id": "14183498-03e2-481b-8a9d-d5c9043b6ebe",
   "metadata": {},
   "outputs": [
    {
     "name": "stdout",
     "output_type": "stream",
     "text": [
      "Derslere göre grup başarısı:\n",
      "            Matematik  Fizik  Kimya\n",
      "Bölüm                              \n",
      "Bilgisayar       80.0   75.0   87.5\n",
      "Fizik            57.5   67.5   77.5\n",
      "Kimya            80.0   70.0   65.0\n"
     ]
    }
   ],
   "source": [
    "#7. 5. Bölümlere göre gruplayarak her bölümün ortalama başarılarını hesaplayın.\n",
    "print(\n",
    "    f\"Derslere göre grup başarısı:\\n{df.groupby('Bölüm')[['Matematik','Fizik','Kimya']].mean()}\"\n",
    ")\n"
   ]
  },
  {
   "cell_type": "code",
   "execution_count": 11,
   "id": "3443e21c-b1de-4bb8-ac70-f6a6f69c1011",
   "metadata": {},
   "outputs": [
    {
     "data": {
      "text/html": [
       "<div>\n",
       "<style scoped>\n",
       "    .dataframe tbody tr th:only-of-type {\n",
       "        vertical-align: middle;\n",
       "    }\n",
       "\n",
       "    .dataframe tbody tr th {\n",
       "        vertical-align: top;\n",
       "    }\n",
       "\n",
       "    .dataframe thead th {\n",
       "        text-align: right;\n",
       "    }\n",
       "</style>\n",
       "<table border=\"1\" class=\"dataframe\">\n",
       "  <thead>\n",
       "    <tr style=\"text-align: right;\">\n",
       "      <th></th>\n",
       "      <th>Öğrenci</th>\n",
       "      <th>Yaş</th>\n",
       "      <th>Bölüm</th>\n",
       "      <th>Matematik</th>\n",
       "      <th>Fizik</th>\n",
       "      <th>Kimya</th>\n",
       "      <th>Not Ortalamasi</th>\n",
       "    </tr>\n",
       "  </thead>\n",
       "  <tbody>\n",
       "    <tr>\n",
       "      <th>0</th>\n",
       "      <td>Ali</td>\n",
       "      <td>20</td>\n",
       "      <td>Bilgisayar</td>\n",
       "      <td>70</td>\n",
       "      <td>65</td>\n",
       "      <td>80</td>\n",
       "      <td>215</td>\n",
       "    </tr>\n",
       "    <tr>\n",
       "      <th>1</th>\n",
       "      <td>Ayşe</td>\n",
       "      <td>21</td>\n",
       "      <td>Fizik</td>\n",
       "      <td>60</td>\n",
       "      <td>75</td>\n",
       "      <td>85</td>\n",
       "      <td>220</td>\n",
       "    </tr>\n",
       "    <tr>\n",
       "      <th>2</th>\n",
       "      <td>Mehmet</td>\n",
       "      <td>19</td>\n",
       "      <td>Kimya</td>\n",
       "      <td>80</td>\n",
       "      <td>70</td>\n",
       "      <td>65</td>\n",
       "      <td>215</td>\n",
       "    </tr>\n",
       "    <tr>\n",
       "      <th>3</th>\n",
       "      <td>Zeynep</td>\n",
       "      <td>22</td>\n",
       "      <td>Bilgisayar</td>\n",
       "      <td>90</td>\n",
       "      <td>85</td>\n",
       "      <td>95</td>\n",
       "      <td>270</td>\n",
       "    </tr>\n",
       "    <tr>\n",
       "      <th>4</th>\n",
       "      <td>Ahmet</td>\n",
       "      <td>20</td>\n",
       "      <td>Fizik</td>\n",
       "      <td>55</td>\n",
       "      <td>60</td>\n",
       "      <td>70</td>\n",
       "      <td>185</td>\n",
       "    </tr>\n",
       "  </tbody>\n",
       "</table>\n",
       "</div>"
      ],
      "text/plain": [
       "  Öğrenci  Yaş       Bölüm  Matematik  Fizik  Kimya  Not Ortalamasi\n",
       "0     Ali   20  Bilgisayar         70     65     80             215\n",
       "1    Ayşe   21       Fizik         60     75     85             220\n",
       "2  Mehmet   19       Kimya         80     70     65             215\n",
       "3  Zeynep   22  Bilgisayar         90     85     95             270\n",
       "4   Ahmet   20       Fizik         55     60     70             185"
      ]
     },
     "execution_count": 11,
     "metadata": {},
     "output_type": "execute_result"
    }
   ],
   "source": [
    " #8. 6. Ortalaması 70’in üzerinde olan öğrencileri filtreleyin.\n",
    "ortYüksek70=df[df['Not Ortalamasi']>70]\n",
    "ortYüksek70"
   ]
  },
  {
   "cell_type": "code",
   "execution_count": 12,
   "id": "5b170a9e-bf35-406e-bb93-b4805ea2a0a3",
   "metadata": {},
   "outputs": [
    {
     "data": {
      "text/plain": [
       "'\\n3. Ek Görev (Opsiyonel)\\n- Matplotlib veya Seaborn kullanarak:\\n• Her dersin dağılımını histogram ile gösterin.\\n\\n• Bölümlere göre ortalamaları bar grafikte görselleştirin.\\n'"
      ]
     },
     "execution_count": 12,
     "metadata": {},
     "output_type": "execute_result"
    }
   ],
   "source": [
    "\"\"\"\n",
    "3. Ek Görev (Opsiyonel)\n",
    "- Matplotlib veya Seaborn kullanarak:\n",
    "• Her dersin dağılımını histogram ile gösterin.\n",
    "\n",
    "• Bölümlere göre ortalamaları bar grafikte görselleştirin.\n",
    "\"\"\""
   ]
  },
  {
   "cell_type": "code",
   "execution_count": 13,
   "id": "172abb08-0531-4b40-a559-3f39d0ac57f2",
   "metadata": {},
   "outputs": [],
   "source": [
    "import matplotlib.pyplot as plt"
   ]
  },
  {
   "cell_type": "code",
   "execution_count": 14,
   "id": "afb45d9d-22f8-416c-bb29-fc88f05a2325",
   "metadata": {},
   "outputs": [
    {
     "data": {
      "image/png": "[encoded data removed]",
      "text/plain": [
       "<Figure size 640x480 with 1 Axes>"
      ]
     },
     "metadata": {},
     "output_type": "display_data"
    }
   ],
   "source": [
    "#• Her dersin dağılımını histogram ile gösterin\n",
    "\n",
    "#Matematik\n",
    "plt.hist(df[\"Matematik\"], bins=5, alpha=0.5, label=\"Matematik\")\n",
    "plt.hist(df[\"Fizik\"], bins=5, alpha=0.5, label=\"Fizik\")\n",
    "plt.hist(df[\"Kimya\"], bins=5, alpha=0.5, label=\"Kimya\")\n",
    "plt.xlabel(\"Not Aralıkları\")\n",
    "plt.ylabel(\"Öğrenci Sayısı\")\n",
    "plt.title(\"Ders Notlarının Dağılımı\")\n",
    "plt.legend()\n",
    "plt.show()"
   ]
  },
  {
   "cell_type": "code",
   "execution_count": 66,
   "id": "840eba45-6276-443f-89c4-e1373b512119",
   "metadata": {},
   "outputs": [
    {
     "data": {
      "image/png": "[encoded data removed]",
      "text/plain": [
       "<Figure size 1500x400 with 3 Axes>"
      ]
     },
     "metadata": {},
     "output_type": "display_data"
    }
   ],
   "source": [
    "# Kaç ders var? otomatik ayarlamak için\n",
    "dersler = [\"Matematik\", \"Fizik\", \"Kimya\"]\n",
    "n_ders = len(dersler)\n",
    "\n",
    "# Subplot oluştur\n",
    "fig, axes = plt.subplots(1, n_ders, figsize=(5*n_ders, 4))  # 1 satır, n_ders sütun\n",
    "\n",
    "for i, ders in enumerate(dersler):\n",
    "    axes[i].hist(df[ders], bins=5, color=\"#934EA3\", edgecolor=\"#504EA3\")\n",
    "    axes[i].set_title(f\"{ders} Not Dağılımı\")\n",
    "    axes[i].set_xlabel(\"Not Aralıkları\")\n",
    "    axes[i].set_ylabel(\"Öğrenci Sayısı\")\n",
    "\n",
    "plt.tight_layout()\n",
    "plt.show()\n"
   ]
  },
  {
   "cell_type": "code",
   "execution_count": 54,
   "id": "8d5b9c47-3d67-413b-80fc-aeed7edfab35",
   "metadata": {},
   "outputs": [
    {
     "data": {
      "text/plain": [
       "Matematik    71.0\n",
       "Fizik        71.0\n",
       "Kimya        79.0\n",
       "dtype: float64"
      ]
     },
     "execution_count": 54,
     "metadata": {},
     "output_type": "execute_result"
    }
   ],
   "source": [
    "gruplanmis=df[[\"Matematik\",\"Fizik\",\"Kimya\"]].mean()\n",
    "gruplanmis\n"
   ]
  },
  {
   "cell_type": "code",
   "execution_count": 63,
   "id": "21ecc25a-f7ad-49c1-a799-94e5c504a9d3",
   "metadata": {},
   "outputs": [
    {
     "data": {
      "image/png": "[encoded data removed]",
      "text/plain": [
       "<Figure size 640x480 with 1 Axes>"
      ]
     },
     "metadata": {},
     "output_type": "display_data"
    }
   ],
   "source": [
    "#• Bölümlere göre ortalamaları bar grafikte görselleştirin.\n",
    "\n",
    "plt.bar(dersler,gruplanmis,color=\"#FF2EA4\", edgecolor=\"#750042\")\n",
    "plt.xlabel(\"Dersler\")\n",
    "plt.ylabel(\"Ortalama Not\")\n",
    "plt.title(\"Derslere Göre Ortalama Notlar\")\n",
    "plt.show()        "
   ]
  },
  {
   "cell_type": "code",
   "execution_count": 25,
   "id": "c90ecb19-a57f-4cd6-8546-35fcac22a9b1",
   "metadata": {
    "scrolled": true
   },
   "outputs": [
    {
     "data": {
      "image/png": "[encoded data removed]",
      "text/plain": [
       "<Figure size 1000x500 with 1 Axes>"
      ]
     },
     "metadata": {},
     "output_type": "display_data"
    }
   ],
   "source": [
    "import numpy as np\n",
    "# Bölümlere göre ortalama\n",
    "ortalama = df.groupby(\"Bölüm\")[[\"Matematik\",\"Fizik\",\"Kimya\"]].mean()\n",
    "\n",
    "dersler = [\"Matematik\",\"Fizik\",\"Kimya\"]\n",
    "bolumler = ortalama.index\n",
    "x = np.arange(len(bolumler))\n",
    "width = 0.25\n",
    "\n",
    "fig, ax = plt.subplots(figsize=(10,5))\n",
    "\n",
    "for i, ders in enumerate(dersler):\n",
    "    ax.bar(x + i*width, ortalama[ders], width, label=ders)\n",
    "\n",
    "ax.set_xticks(x + width)\n",
    "ax.set_xticklabels(bolumler)\n",
    "ax.set_ylabel(\"Ortalama Not\")\n",
    "ax.set_title(\"Bölümlere Göre Ders Ortalamaları\")\n",
    "ax.legend()\n",
    "plt.show()"
   ]
  }
 ],
 "metadata": {
  "kernelspec": {
   "display_name": "anaconda-panel-2023.05-py310",
   "language": "python",
   "name": "conda-env-anaconda-panel-2023.05-py310-py"
  },
  "language_info": {
   "codemirror_mode": {
    "name": "ipython",
    "version": 3
   },
   "file_extension": ".py",
   "mimetype": "text/x-python",
   "name": "python",
   "nbconvert_exporter": "python",
   "pygments_lexer": "ipython3",
   "version": "3.11.5"
  }
 },
 "nbformat": 4,
 "nbformat_minor": 5
}
