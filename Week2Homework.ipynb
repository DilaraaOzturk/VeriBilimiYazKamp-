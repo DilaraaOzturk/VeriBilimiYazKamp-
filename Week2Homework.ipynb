{
 "cells": [
  {
   "cell_type": "markdown",
   "id": "123b2eda-3aa8-4c46-a06f-2fa763eb2a57",
   "metadata": {},
   "source": [
    "Soru 1 – Sayı Analizi\r\n",
    "Kullanıcıdan bir sayı isteyin.\r\n",
    "• Sayı pozitif, negatif ya da sıfır mı kontrol edin.\r\n",
    "• Aynı zamanda tek/çift olup olmadığını da belirtin.\r\n",
    "• Çıktı örneği: \"Pozitif Çift\" veya \"Negatif Tek\" gibi."
   ]
  },
  {
   "cell_type": "code",
   "execution_count": 38,
   "id": "81e861a3-fbea-4842-9d5a-f5e66e190e7d",
   "metadata": {},
   "outputs": [
    {
     "name": "stdin",
     "output_type": "stream",
     "text": [
      "Bir sayi giriniz:  0\n"
     ]
    },
    {
     "name": "stdout",
     "output_type": "stream",
     "text": [
      "Girilen sayi sifirdir.Ne pozitif ne negatif çift sayidir.\n"
     ]
    }
   ],
   "source": [
    "num1=int(input(\"Bir sayi giriniz: \"))\n",
    "if(num1<0):\n",
    "         if(num1%2==0):\n",
    "                print(\"Negatif çift\")\n",
    "         else:\n",
    "                print(\"Negatif tek\")\n",
    "elif(num1>0):\n",
    "         if(num1%2==0):\n",
    "                print(\"Pozitif çift\")\n",
    "         else:\n",
    "                print(\"Pozitif tek\")\n",
    "else:\n",
    "         print(\"Girilen sayi sifirdir.Ne pozitif ne negatif çift sayidir.\")"
   ]
  },
  {
   "cell_type": "markdown",
   "id": "9265ba37-1d2f-4ff6-98e1-157fc55be234",
   "metadata": {},
   "source": [
    "Soru 2 – Harf Frekansı (String)\r\n",
    "Kullanıcıdan bir kelime alın.\r\n",
    "• Hangi harften kaç tane geçtiğini bulun.\r\n",
    "• Sonucu dictionary olarak gösterin.\r\n",
    "Örnek: \"data\" → {'d': 1, 'a': 2, 't': 1}"
   ]
  },
  {
   "cell_type": "code",
   "execution_count": 39,
   "id": "c74f28e5-2f71-4ba5-bf3d-672e023ae3c8",
   "metadata": {},
   "outputs": [
    {
     "name": "stdin",
     "output_type": "stream",
     "text": [
      "Bir kelime giriniz:  lalallalalslasdfsfs\n"
     ]
    },
    {
     "name": "stdout",
     "output_type": "stream",
     "text": [
      "{'l': 7, 'a': 5, 's': 4, 'd': 1, 'f': 2}\n"
     ]
    }
   ],
   "source": [
    "word1=input(\"Bir kelime giriniz: \")\n",
    "listWord=list(word1)\n",
    "dictWord={}\n",
    "\n",
    "for i in listWord:\n",
    "    if i in dictWord:       \n",
    "        dictWord[i] += 1    \n",
    "    else:                   \n",
    "        dictWord[i] = 1\n",
    "print(dictWord)        \n",
    "#Counter ile daha kolay oluyormuş direk girilen kelimeyi dict olarak döndürüyormuş"
   ]
  },
  {
   "cell_type": "markdown",
   "id": "fb487a8e-11db-4bd8-8f80-82c5a935cf16",
   "metadata": {},
   "source": [
    "Soru 3 – Şifre Kontrolü (String Metotları)\r\n",
    "Kullanıcıdan şifre girmesini isteyin. Şifre:\r\n",
    "• En az 8 karakter olmalı\r\n",
    "• En az 1 büyük harf içermeli\r\n",
    "• En az 1 rakam içermeli\r\n",
    "Koşulları sağlayıp sağlamadığına göre kullanıcıyı bilgilendirin."
   ]
  },
  {
   "cell_type": "code",
   "execution_count": 40,
   "id": "86083b96-7a31-4cf5-9c0d-84fe243b1052",
   "metadata": {},
   "outputs": [
    {
     "name": "stdin",
     "output_type": "stream",
     "text": [
      "Şifrenizi belirleyiniz:  lkdsd\n"
     ]
    },
    {
     "name": "stdout",
     "output_type": "stream",
     "text": [
      "En az 8 karakter olmalı\n"
     ]
    },
    {
     "name": "stdin",
     "output_type": "stream",
     "text": [
      "Şifrenizi belirleyiniz:  sdsd\n"
     ]
    },
    {
     "name": "stdout",
     "output_type": "stream",
     "text": [
      "En az 8 karakter olmalı\n"
     ]
    },
    {
     "name": "stdin",
     "output_type": "stream",
     "text": [
      "Şifrenizi belirleyiniz:  Dilarasdsd\n"
     ]
    },
    {
     "name": "stdout",
     "output_type": "stream",
     "text": [
      "En az 1 rakam içermeli\n"
     ]
    },
    {
     "name": "stdin",
     "output_type": "stream",
     "text": [
      "Şifrenizi belirleyiniz:  Dilara12\n"
     ]
    },
    {
     "name": "stdout",
     "output_type": "stream",
     "text": [
      "Şifreniz 'Dilara12' olarak belirlenmiştir.\n"
     ]
    }
   ],
   "source": [
    "isPassOk = False\n",
    "\n",
    "while not isPassOk:\n",
    "    password = input(\"Şifrenizi belirleyiniz: \")\n",
    "    listPassword = list(password)\n",
    "\n",
    "    # Uzunluk kontrolü\n",
    "    if len(password) < 8:\n",
    "        print(\"En az 8 karakter olmalı\")\n",
    "        continue\n",
    "\n",
    "    # Büyük harf kontrolü\n",
    "    isUpper = False\n",
    "    for i in listPassword:\n",
    "        if i.isupper():\n",
    "            isUpper = True\n",
    "            break\n",
    "    if not isUpper:\n",
    "        print(\"En az 1 büyük harf içermeli\")\n",
    "        continue\n",
    "\n",
    "    # Rakam kontrolü\n",
    "    isNumeric = False\n",
    "    for i in listPassword:\n",
    "        if i.isdigit():\n",
    "            isNumeric = True\n",
    "            break\n",
    "    if not isNumeric:\n",
    "        print(\"En az 1 rakam içermeli\")\n",
    "        continue\n",
    "\n",
    "    # Tüm kontroller geçtiyse\n",
    "    print(f\"Şifreniz '{password}' olarak belirlenmiştir.\")\n",
    "    isPassOk = True\n"
   ]
  },
  {
   "cell_type": "markdown",
   "id": "6c27c467-d683-4cd5-82c2-76a788d24296",
   "metadata": {},
   "source": [
    "Soru 4 – Liste İşlemleri\r\n",
    "[12, 4, 9, 25, 30, 7, 18] listesini kullanın.\r\n",
    "• Listenin ortalamasını bulun.\r\n",
    "• Ortalamadan büyük sayıları ayrı bir listeye atın.\r\n",
    "• Sonucu ekrana yazdırın."
   ]
  },
  {
   "cell_type": "code",
   "execution_count": 41,
   "id": "def3591a-21a4-4ac4-9def-5b59190448dc",
   "metadata": {},
   "outputs": [
    {
     "name": "stdout",
     "output_type": "stream",
     "text": [
      "Belirlenen listenin ortalaması 15.0 dir \n",
      "Listenin ortalama üstü elemanları : [25, 30, 18]\n"
     ]
    }
   ],
   "source": [
    "list=[12, 4, 9, 25, 30, 7, 18]\n",
    "meanList=0\n",
    "for i in list:\n",
    "    meanList+=i\n",
    "meanList=meanList/len(list)\n",
    "hightestList=[]\n",
    "for i in list:\n",
    "    if(i >meanList):\n",
    "        hightestList.append(i)\n",
    "print(f\"Belirlenen listenin ortalaması {meanList} dir \\nListenin ortalama üstü elemanları : {hightestList}\")\n",
    "\n",
    "    \n"
   ]
  },
  {
   "cell_type": "markdown",
   "id": "5664b2ef-6238-41bc-8ed2-2434fdb098ab",
   "metadata": {},
   "source": [
    "Soru 5 – Nested Loop (Desen)\r\n",
    "Aşağıdaki çıktıyı üreten programı yazın (üçgen desen)\n",
    ":"
   ]
  },
  {
   "cell_type": "code",
   "execution_count": 42,
   "id": "adf2038e-c643-4e80-9dd2-5894df83eea2",
   "metadata": {},
   "outputs": [
    {
     "name": "stdout",
     "output_type": "stream",
     "text": [
      "*\n",
      "**\n",
      "***\n",
      "****\n",
      "*****\n"
     ]
    }
   ],
   "source": [
    "for i in range(1,6):\n",
    "    for j in range(0,i):\n",
    "        print(\"*\",end=\"\")\n",
    "    print(\"\")"
   ]
  },
  {
   "cell_type": "raw",
   "id": "44ce8cd4-b23f-489b-a120-ef2824945902",
   "metadata": {},
   "source": [
    "Soru 6 – While Döngüsü\n",
    "Kullanıcıdan sürekli sayı isteyin.\n",
    "• Kullanıcı 0 girdiğinde program dursun.\n",
    "• Girilen tüm sayıların toplamını ve ortalamasını yazdırın."
   ]
  },
  {
   "cell_type": "code",
   "execution_count": 43,
   "id": "3cc674b4-6436-491d-a6b7-cc3ef42e355d",
   "metadata": {},
   "outputs": [
    {
     "name": "stdin",
     "output_type": "stream",
     "text": [
      "Sayi giriniz(0 girişi ile program durmaktadir):  88\n"
     ]
    },
    {
     "name": "stdout",
     "output_type": "stream",
     "text": [
      "Toplam değerinin son durumu :88\n"
     ]
    },
    {
     "name": "stdin",
     "output_type": "stream",
     "text": [
      "Sayi giriniz(0 girişi ile program durmaktadir):  77\n"
     ]
    },
    {
     "name": "stdout",
     "output_type": "stream",
     "text": [
      "Toplam değerinin son durumu :165\n"
     ]
    },
    {
     "name": "stdin",
     "output_type": "stream",
     "text": [
      "Sayi giriniz(0 girişi ile program durmaktadir):  6646\n"
     ]
    },
    {
     "name": "stdout",
     "output_type": "stream",
     "text": [
      "Toplam değerinin son durumu :6811\n"
     ]
    },
    {
     "name": "stdin",
     "output_type": "stream",
     "text": [
      "Sayi giriniz(0 girişi ile program durmaktadir):  5455\n"
     ]
    },
    {
     "name": "stdout",
     "output_type": "stream",
     "text": [
      "Toplam değerinin son durumu :12266\n"
     ]
    },
    {
     "name": "stdin",
     "output_type": "stream",
     "text": [
      "Sayi giriniz(0 girişi ile program durmaktadir):  0\n"
     ]
    },
    {
     "name": "stdout",
     "output_type": "stream",
     "text": [
      "Programi sonladırdiniz.Toplam = 12266\n"
     ]
    }
   ],
   "source": [
    "sumNumbers=0\n",
    "while True:\n",
    "    x=int(input(\"Sayi giriniz(0 girişi ile program durmaktadir): \"))\n",
    "    if(x==0):\n",
    "        break\n",
    "    sumNumbers+=x\n",
    "    print(f\"Toplam değerinin son durumu :{sumNumbers}\")\n",
    "print(f\"Programi sonladırdiniz.Toplam = {sumNumbers}\")   \n",
    "    "
   ]
  },
  {
   "cell_type": "markdown",
   "id": "930e91bf-bff4-4dfc-9515-17477c61d15a",
   "metadata": {},
   "source": [
    "Soru 7 – Palindrom Kontrolü\n",
    "Kullanıcıdan bir kelime isteyin.\n",
    "• Kelimenin palindrom olup olmadığını kontrol edin.\n",
    "• Örnek: \"kayak\" → Palindrom , \"python\" → Değil"
   ]
  },
  {
   "cell_type": "code",
   "execution_count": 44,
   "id": "2a5845c8-4c4a-4e73-bed7-146c3c46e1e9",
   "metadata": {},
   "outputs": [
    {
     "name": "stdin",
     "output_type": "stream",
     "text": [
      "Polindrom kelime tespiti için kelime giriniz :  kazak\n"
     ]
    },
    {
     "name": "stdout",
     "output_type": "stream",
     "text": [
      "kazak nin tersi kendisi olduğu için polindrom kelimedir.\n"
     ]
    }
   ],
   "source": [
    "wordP=input(\"Polindrom kelime tespiti için kelime giriniz : \")\n",
    "revWordP=wordP[::-1]\n",
    "if(revWordP==wordP):\n",
    "    print(f\"{wordP} nin tersi kendisi olduğu için polindrom kelimedir.\")\n",
    "else:\n",
    "    print(f\"{wordP} tersi {revWordP} olduğundan polindrom kelime değildir.\")\n"
   ]
  },
  {
   "cell_type": "raw",
   "id": "b2f0e942-c39e-4045-96ac-43e7b9f5769e",
   "metadata": {},
   "source": [
    "Soru 8 – List Comprehension\n",
    "1’den 100’e kadar olan sayılardan:\n",
    "• Hem 3’e hem 5’e bölünebilenlerin karelerini içeren bir liste oluşturun.\n",
    "• Sonucu ekrana yazdırın."
   ]
  },
  {
   "cell_type": "code",
   "execution_count": 45,
   "id": "859f03c2-cd43-4bc8-92df-09672f3a9562",
   "metadata": {},
   "outputs": [
    {
     "name": "stdout",
     "output_type": "stream",
     "text": [
      "[0, 15, 30, 45, 60, 75, 90]\n"
     ]
    }
   ],
   "source": [
    "listNum=[]\n",
    "for i in range(101):\n",
    "    if(i %3==0 and i%5==0):\n",
    "        listNum.append(i)\n",
    "print(listNum)        \n"
   ]
  },
  {
   "cell_type": "raw",
   "id": "0a24b34a-9bd9-4e63-a961-b7c19e3f38d1",
   "metadata": {},
   "source": [
    "Soru 9 – String İşlemleri\n",
    "Bir cümle alın.\n",
    "• Cümledeki kelimeleri split() ile ayırın.\n",
    "• Her kelimenin ilk harfini büyük yaparak yeni bir string oluşturun.\n",
    "• Örnek: \"python veri bilimi\" → \"Python Veri Bilimi\""
   ]
  },
  {
   "cell_type": "code",
   "execution_count": 46,
   "id": "d055e13f-b00d-4be8-8d67-7be4fe4823b9",
   "metadata": {},
   "outputs": [
    {
     "name": "stdin",
     "output_type": "stream",
     "text": [
      "Bir cümle yaziniz:  python veri bilimi\n"
     ]
    },
    {
     "name": "stdout",
     "output_type": "stream",
     "text": [
      "Python Veri Bilimi\n"
     ]
    }
   ],
   "source": [
    "sentence=input(\"Bir cümle yaziniz: \")\n",
    "splitSen=sentence.split()\n",
    "\n",
    "for i in range(len(splitSen)):\n",
    "    splitSen[i]=splitSen[i].title()\n",
    "\n",
    "print(\" \".join(splitSen))"
   ]
  },
  {
   "cell_type": "markdown",
   "id": "52534bbd-5f80-48d6-afa4-1bca32d55baa",
   "metadata": {},
   "source": [
    "Mini Proje – Film Yorumu Analizi"
   ]
  },
  {
   "cell_type": "code",
   "execution_count": 47,
   "id": "2c53b0d7-7302-437d-a5c0-677df6e7d780",
   "metadata": {},
   "outputs": [
    {
     "name": "stdout",
     "output_type": "stream",
     "text": [
      "En az 5 tane yorun olmalı\n"
     ]
    },
    {
     "name": "stdin",
     "output_type": "stream",
     "text": [
      "Yorum : Film çok güzeldi\n"
     ]
    },
    {
     "name": "stdout",
     "output_type": "stream",
     "text": [
      "En az 5 tane yorun olmalı\n"
     ]
    },
    {
     "name": "stdin",
     "output_type": "stream",
     "text": [
      "Yorum : Kötüydü\n"
     ]
    },
    {
     "name": "stdout",
     "output_type": "stream",
     "text": [
      "En az 5 tane yorun olmalı\n"
     ]
    },
    {
     "name": "stdin",
     "output_type": "stream",
     "text": [
      "Yorum : Ortalama bir filmdi\n"
     ]
    },
    {
     "name": "stdout",
     "output_type": "stream",
     "text": [
      "En az 5 tane yorun olmalı\n"
     ]
    },
    {
     "name": "stdin",
     "output_type": "stream",
     "text": [
      "Yorum : Gerçekten çok iyi\n"
     ]
    },
    {
     "name": "stdout",
     "output_type": "stream",
     "text": [
      "En az 5 tane yorun olmalı\n"
     ]
    },
    {
     "name": "stdin",
     "output_type": "stream",
     "text": [
      "Yorum : İyi ama daha iyi olabilirdi\n"
     ]
    },
    {
     "name": "stdout",
     "output_type": "stream",
     "text": [
      "En az 5 tane yorun olmalı\n"
     ]
    },
    {
     "name": "stdin",
     "output_type": "stream",
     "text": [
      "Yorum : Mükemmel\n",
      "Yorum işlemini bitirmek için 0 a basın: 4\n"
     ]
    },
    {
     "name": "stdout",
     "output_type": "stream",
     "text": [
      "En az 5 tane yorun olmalı\n"
     ]
    },
    {
     "name": "stdin",
     "output_type": "stream",
     "text": [
      "Yorum : Çok iyi\n",
      "Yorum işlemini bitirmek için 0 a basın: 0\n"
     ]
    }
   ],
   "source": [
    "comList=[]\n",
    "devamMi=True\n",
    "while devamMi:\n",
    "    print(\"En az 5 tane yorun olmalı\")\n",
    "    comList.append(input(\"Yorum :\"))\n",
    "    if(len(comList)>5):\n",
    "            x=int(input(\"Yorum işlemini bitirmek için 0 a basın:\"))\n",
    "            if(x==0):\n",
    "                break\n",
    "    \n",
    "    "
   ]
  },
  {
   "cell_type": "code",
   "execution_count": 48,
   "id": "684c2099-987b-404f-9cb5-57fb7282003e",
   "metadata": {},
   "outputs": [
    {
     "name": "stdout",
     "output_type": "stream",
     "text": [
      "1 yorum 3 kelime içeriyor\n",
      "2 yorum 1 kelime içeriyor\n",
      "3 yorum 3 kelime içeriyor\n",
      "4 yorum 3 kelime içeriyor\n",
      "5 yorum 5 kelime içeriyor\n",
      "6 yorum 1 kelime içeriyor\n",
      "7 yorum 2 kelime içeriyor\n"
     ]
    }
   ],
   "source": [
    "for i in range(len(comList)):\n",
    "    print(f\"{i+1} yorum {len(comList[i].split())} kelime içeriyor\")"
   ]
  },
  {
   "cell_type": "code",
   "execution_count": 49,
   "id": "814abac6-6e32-498a-a198-e6f26d1c8335",
   "metadata": {},
   "outputs": [
    {
     "name": "stdout",
     "output_type": "stream",
     "text": [
      "\"iyi\" geçen yorum sayisi :3 \n"
     ]
    }
   ],
   "source": [
    "count=0\n",
    "for i in range(len(comList)):\n",
    "    splitCom=comList[i].lower().split()\n",
    "    for j in splitCom:\n",
    "        if(j==\"iyi\"):\n",
    "            count+=1\n",
    "            break\n",
    "print(f'\"iyi\" geçen yorum sayisi :{count} ')            \n",
    "        "
   ]
  },
  {
   "cell_type": "code",
   "execution_count": 36,
   "id": "1bf424b0-852d-4198-937b-77b9d3952d62",
   "metadata": {},
   "outputs": [
    {
     "name": "stdout",
     "output_type": "stream",
     "text": [
      "En uzun yorum :Fena değildi.Beklentim yükskti\n",
      "En kısa yorum :Kötüydü\n",
      "Ortalama karakter sayisi : 19.17\n"
     ]
    }
   ],
   "source": [
    "long=comList[0]\n",
    "short=comList[0]\n",
    "meanCom=0\n",
    "for i in range(len(comList)):\n",
    "    if(len(comList[i])>len(long)):\n",
    "        long=comList[i]\n",
    "for i in range(len(comList)):\n",
    "    if(len(comList[i])<len(short)):\n",
    "        short=comList[i]\n",
    "for i in range(len(comList)):\n",
    "    meanCom+=len(comList[i])\n",
    "meanCom=meanCom/len(comList)    \n",
    "print(f\"En uzun yorum :{long}\")\n",
    "print(f\"En kısa yorum :{short}\")\n",
    "print(f\"Ortalama karakter sayisi : {meanCom:.2f}\")\n"
   ]
  },
  {
   "cell_type": "code",
   "execution_count": null,
   "id": "83e18b54-9dcc-4f6a-b08a-25189508d192",
   "metadata": {},
   "outputs": [],
   "source": []
  }
 ],
 "metadata": {
  "kernelspec": {
   "display_name": "anaconda-2024.02-py310",
   "language": "python",
   "name": "conda-env-anaconda-2024.02-py310-py"
  },
  "language_info": {
   "codemirror_mode": {
    "name": "ipython",
    "version": 3
   },
   "file_extension": ".py",
   "mimetype": "text/x-python",
   "name": "python",
   "nbconvert_exporter": "python",
   "pygments_lexer": "ipython3",
   "version": "3.10.14"
  }
 },
 "nbformat": 4,
 "nbformat_minor": 5
}
